{
 "cells": [
  {
   "cell_type": "code",
   "execution_count": 1,
   "id": "6b5a9430",
   "metadata": {},
   "outputs": [],
   "source": [
    "import math\n",
    "import numpy as np\n",
    "import matplotlib.pyplot as plt\n",
    "import pandas as pd\n",
    "import seaborn as sns\n",
    "import time\n",
    "import os"
   ]
  },
  {
   "cell_type": "code",
   "execution_count": 2,
   "id": "8277c06f",
   "metadata": {},
   "outputs": [],
   "source": [
    "#Path of the file with the data of particles\n",
    "os.chdir('/home/user/Documents/BUAP/Estancia/CosmicRayReco/MCAnalysis/ClusterAnalysis/Data')"
   ]
  },
  {
   "cell_type": "code",
   "execution_count": 3,
   "id": "6422fcfb",
   "metadata": {},
   "outputs": [],
   "source": [
    "#File with summary of Showers\n",
    "Showers = pd.read_csv('DAT000006_showers.txt',delimiter='\\t')"
   ]
  },
  {
   "cell_type": "code",
   "execution_count": 4,
   "id": "4ba0c01b",
   "metadata": {},
   "outputs": [],
   "source": [
    "#File with information of all particles at observation level\n",
    "Particles = pd.read_csv('DAT000006_particles.txt',delimiter='\\t')"
   ]
  },
  {
   "cell_type": "code",
   "execution_count": 5,
   "id": "d0acc55f",
   "metadata": {},
   "outputs": [],
   "source": [
    "#Change the units of first interaction point from cm to km\n",
    "Showers['Zfirst'] = Showers['Zfirst'].mul(1e-5)"
   ]
  },
  {
   "cell_type": "code",
   "execution_count": 6,
   "id": "42e1d79a",
   "metadata": {},
   "outputs": [],
   "source": [
    "#change units of positions from cm to m\n",
    "Particles[['x','y']] = Particles[['x','y']].mul(0.01)"
   ]
  },
  {
   "cell_type": "code",
   "execution_count": 7,
   "id": "53c3104a",
   "metadata": {},
   "outputs": [],
   "source": [
    "#Statistics of the data frame with summary of showers \n",
    "Showers.describe()"
   ]
  },
  {
   "cell_type": "code",
   "execution_count": 8,
   "id": "322f9d8f",
   "metadata": {},
   "outputs": [],
   "source": [
    "#Definition of a box which contain all the particles of the simulation\n",
    "#size of the detector on mm (¡¡¡For the moment work with a detector of 1m^2 !!!)\n",
    "\n",
    "det_s_x = 1 # detector size in x axis (m)\n",
    "det_s_y = 1 # detector size in y axis (m)\n"
   ]
  },
  {
   "cell_type": "code",
   "execution_count": 9,
   "id": "0f0467c6",
   "metadata": {},
   "outputs": [],
   "source": [
    "#Add a new column which will contain the number of cluster for each particle\n",
    "Particles[\"DetPosx\"] = np.ceil(Particles[\"x\"])\n",
    "Particles[\"DetPosy\"] = np.ceil(Particles[\"y\"]) \n",
    "Particles[\"CoorDetx\"] = (Particles[\"x\"]) % det_s_x\n",
    "Particles[\"CoorDety\"] = (Particles[\"y\"]) % det_s_y\n",
    "Particles['Ncluster'] = 0"
   ]
  },
  {
   "cell_type": "code",
   "execution_count": 10,
   "id": "8dcde6b9",
   "metadata": {},
   "outputs": [],
   "source": [
    "#Statistics of the data frame of all particles at observation level\n",
    "Particles.describe()"
   ]
  },
  {
   "cell_type": "code",
   "execution_count": 11,
   "id": "2a4f3268",
   "metadata": {
    "scrolled": true
   },
   "outputs": [],
   "source": [
    "#Define a function to find the clusters of particles\n",
    "def Clusters(ith_clust, Sh_n):\n",
    "    \n",
    "    # Transform the columns of the particle data frame with the position of the detector into a list\n",
    "    x_pos = Sh_n['DetPosx'].tolist()\n",
    "    y_pos = Sh_n['DetPosy'].tolist()\n",
    "    \n",
    "    # Create an empty set\n",
    "    unique_pairs = set()\n",
    "\n",
    "    # Iterate over the pairs of x and y using zip\n",
    "    for xi, yi in zip(x_pos, y_pos):\n",
    "        pair = (xi, yi)\n",
    "\n",
    "        # Check if the pair is already in the set\n",
    "        if pair not in unique_pairs:\n",
    "            # If not, add it to the set\n",
    "            unique_pairs.add(pair)\n",
    "\n",
    "            # Extract the particles index by comparing it with the x, y position in the data frame\n",
    "            p_index_clust = Sh_n.index[ (Sh_n['DetPosx'] == xi) & (Sh_n['DetPosy'] == yi) ].tolist()\n",
    "            \n",
    "            # Replacte the cluster position of the particle for the cluster id\n",
    "            for j in range(len(p_index_clust)):\n",
    "                Sh_n.at[p_index_clust[j],'Ncluster'] = ith_clust\n",
    "\n",
    "            ith_clust = ith_clust+1 # Next Cluster\n",
    "    \n",
    "    return Sh_n, ith_clust \n",
    "            "
   ]
  },
  {
   "cell_type": "code",
   "execution_count": 12,
   "id": "484235fc",
   "metadata": {},
   "outputs": [],
   "source": [
    "%%time\n",
    "ith_clust = 1 # First cluster\n",
    "\n",
    "# Run over all the showers\n",
    "for ith_shower in range(1, Showers[\"Shower\"].count()+1):\n",
    "    Sh_n, ith_clust = Clusters(ith_clust, Particles[Particles[\"sh\"]==ith_shower]) \n",
    "    Particles.loc[Particles[\"sh\"]==ith_shower, :] = Sh_n"
   ]
  },
  {
   "cell_type": "code",
   "execution_count": 13,
   "id": "ba55e281",
   "metadata": {},
   "outputs": [],
   "source": [
    "# Check if there are particles that are not counted\n",
    "Particles[Particles[\"Ncluster\"]==0]"
   ]
  },
  {
   "cell_type": "code",
   "execution_count": 14,
   "id": "bf0407c7",
   "metadata": {},
   "outputs": [],
   "source": [
    "# Number of the cluster with the maximum number of particles\n",
    "df_sn = Particles[Particles[\"Ncluster\"]!=0]\n",
    "print(df_sn[\"Ncluster\"].value_counts().idxmax())"
   ]
  },
  {
   "cell_type": "code",
   "execution_count": 15,
   "id": "e68cca80",
   "metadata": {},
   "outputs": [],
   "source": [
    "# Summary of the cluster with the maximum number of particles\n",
    "Particles[Particles[\"Ncluster\"]==24353].describeribe()"
   ]
  },
  {
   "cell_type": "code",
   "execution_count": null,
   "id": "2a3ecde0",
   "metadata": {},
   "outputs": [],
   "source": [
    "Particles[Particles[\"Ncluster\"]==24353]"
   ]
  },
  {
   "cell_type": "code",
   "execution_count": null,
   "id": "bbfdeedb",
   "metadata": {},
   "outputs": [],
   "source": []
  }
 ],
 "metadata": {
  "kernelspec": {
   "display_name": "Python 3 (ipykernel)",
   "language": "python",
   "name": "python3"
  },
  "language_info": {
   "codemirror_mode": {
    "name": "ipython",
    "version": 3
   },
   "file_extension": ".py",
   "mimetype": "text/x-python",
   "name": "python",
   "nbconvert_exporter": "python",
   "pygments_lexer": "ipython3",
   "version": "3.10.12"
  }
 },
 "nbformat": 4,
 "nbformat_minor": 5
}
