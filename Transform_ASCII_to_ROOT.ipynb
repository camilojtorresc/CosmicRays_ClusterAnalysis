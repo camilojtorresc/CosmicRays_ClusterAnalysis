{
 "cells": [
  {
   "cell_type": "code",
   "execution_count": 1,
   "id": "3225a341",
   "metadata": {},
   "outputs": [
    {
     "name": "stdout",
     "output_type": "stream",
     "text": [
      "Welcome to JupyROOT 6.26/10\n"
     ]
    }
   ],
   "source": [
    "import ROOT\n",
    "import pandas as pd\n",
    "import os"
   ]
  },
  {
   "cell_type": "code",
   "execution_count": 2,
   "id": "d3ce9d87",
   "metadata": {},
   "outputs": [],
   "source": [
    "#Path of the file with the data of particles\n",
    "os.chdir(r'/home/user/Documents/BUAP/Estancia/CosmicRayReco/MCAnalysis/ClusterAnalysis/Data')"
   ]
  },
  {
   "cell_type": "code",
   "execution_count": 3,
   "id": "9517efc4",
   "metadata": {},
   "outputs": [],
   "source": [
    "#File with summary of Showers\n",
    "Showers = pd.read_csv(r'DAT000001_showers.txt',delimiter='\\t')\n",
    "Showers = Showers.rename(columns={'N. Shower': 'NShow', 'Energy (GeV)': 'Energy', \\\n",
    "                                    'Zfirst (km)' : 'ZFInt','Theta (°)': 'ZhAng', \\\n",
    "                                    'Phi (º)': 'AzAng', 'Phi (°)': 'AzAng',\\\n",
    "                                     'N. Particles' : 'NParticles'})"
   ]
  },
  {
   "cell_type": "code",
   "execution_count": 4,
   "id": "5b4db6aa",
   "metadata": {},
   "outputs": [],
   "source": [
    "#File with information of all particles at observation level\n",
    "Particles = pd.read_csv('DAT000001_particles.txt',delimiter='\\t')\n",
    "Particles = Particles.rename(columns={'N. sh': 'NShow', 'P. id': 'PId',\\\n",
    "                                      'x (m)': 'X','y (m)': 'Y','t (ns)': 'T',\\\n",
    "                                     'px (GeV/c)':'Px','py (GeV/c)':'Py','pz (GeV/c)':'Pz',\\\n",
    "                                     'Psq (GeV)':'PSq','ek (GeV)':'Ene','zha (°)':'ZhA',\\\n",
    "                                     'aza (°)':'AzA'})"
   ]
  },
  {
   "cell_type": "code",
   "execution_count": 5,
   "id": "62b4d811",
   "metadata": {},
   "outputs": [],
   "source": [
    "#Function to save the pandas data frame into a root file\n",
    "def Save_to_root(df1, df2, treename1, treename2, outputname):\n",
    "    data1 = {key: df1[key].values for key in df1.columns.to_list()}\n",
    "    rdf1 = ROOT.RDF.MakeNumpyDataFrame(data1)\n",
    "    rdf1.Snapshot(treename1, outputname)\n",
    "    \n",
    "    data2 = {key: df2[key].values for key in df2.columns.to_list()}\n",
    "    rdf2 = ROOT.RDF.MakeNumpyDataFrame(data2)\n",
    "    \n",
    "    snapshotOptions = ROOT.RDF.RSnapshotOptions()\n",
    "    snapshotOptions.fMode = \"UPDATE\"\n",
    "    \n",
    "    rdf2.Snapshot(treename2, outputname, \".*\", snapshotOptions)\n",
    "    \n",
    "    print(outputname+' created!')"
   ]
  },
  {
   "cell_type": "code",
   "execution_count": 6,
   "id": "9985528f",
   "metadata": {},
   "outputs": [
    {
     "name": "stdout",
     "output_type": "stream",
     "text": [
      "DAT000001.root created!\n"
     ]
    }
   ],
   "source": [
    "Save_to_root(Showers, Particles, \"Showers\", \"Particles\", \"DAT000001.root\")"
   ]
  },
  {
   "cell_type": "code",
   "execution_count": null,
   "id": "e1e85e06",
   "metadata": {},
   "outputs": [],
   "source": []
  },
  {
   "cell_type": "code",
   "execution_count": null,
   "id": "3749c55c",
   "metadata": {},
   "outputs": [],
   "source": []
  },
  {
   "cell_type": "code",
   "execution_count": null,
   "id": "3587eaa1",
   "metadata": {},
   "outputs": [],
   "source": []
  }
 ],
 "metadata": {
  "kernelspec": {
   "display_name": "Python 3 (ipykernel)",
   "language": "python",
   "name": "python3"
  },
  "language_info": {
   "codemirror_mode": {
    "name": "ipython",
    "version": 3
   },
   "file_extension": ".py",
   "mimetype": "text/x-python",
   "name": "python",
   "nbconvert_exporter": "python",
   "pygments_lexer": "ipython3",
   "version": "3.10.12"
  }
 },
 "nbformat": 4,
 "nbformat_minor": 5
}
